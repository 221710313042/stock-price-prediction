{
 "cells": [
  {
   "cell_type": "markdown",
   "metadata": {
    "colab_type": "text",
    "id": "zIhTE_D3sT3_"
   },
   "source": [
    "# PROBLEM STATEMENT\n",
    "\n",
    "The Main Aim of this project is to predict the stock prices of a particular company using the stock market dataset.In this project, I am going to use LSTM networks to predict stock prices.It's important to note that there are always other factors that affect the price of stocks ,such as the political atmosphere and the market.However,we won't focus on those factors for this project.This type of problem comes under time series prediction.\n",
    "\n",
    "\n"
   ]
  },
  {
   "cell_type": "code",
   "execution_count": null,
   "metadata": {
    "colab": {
     "base_uri": "https://localhost:8080/",
     "height": 50
    },
    "colab_type": "code",
    "id": "56eJQe1GMe6V",
    "outputId": "cc7dfca1-0e6f-4663-9332-36ad5a22249a"
   },
   "outputs": [
    {
     "name": "stdout",
     "output_type": "stream",
     "text": [
      "Drive already mounted at /gdrive; to attempt to forcibly remount, call drive.mount(\"/gdrive\", force_remount=True).\n",
      "/gdrive\n"
     ]
    }
   ],
   "source": [
    "from google.colab import drive\n",
    "drive.mount('/gdrive')\n",
    "%cd /gdrive"
   ]
  },
  {
   "cell_type": "code",
   "execution_count": null,
   "metadata": {
    "colab": {},
    "colab_type": "code",
    "id": "CPfXWJFysIx9"
   },
   "outputs": [],
   "source": []
  },
  {
   "cell_type": "markdown",
   "metadata": {
    "colab_type": "text",
    "id": "-CmLJ_28OxqF"
   },
   "source": [
    "# IMPORTING REQUIRED PACKAGES"
   ]
  },
  {
   "cell_type": "code",
   "execution_count": null,
   "metadata": {
    "colab": {
     "base_uri": "https://localhost:8080/",
     "height": 87
    },
    "colab_type": "code",
    "id": "PMWJz8xNT0Cg",
    "outputId": "eab2d254-08e6-41e3-a79d-438b4bef75ba"
   },
   "outputs": [
    {
     "name": "stderr",
     "output_type": "stream",
     "text": [
      "/usr/local/lib/python3.6/dist-packages/statsmodels/tools/_testing.py:19: FutureWarning: pandas.util.testing is deprecated. Use the functions in the public API at pandas.testing instead.\n",
      "  import pandas.util.testing as tm\n",
      "Using TensorFlow backend.\n"
     ]
    }
   ],
   "source": [
    "import numpy as np\n",
    "import pandas as pd\n",
    "import seaborn as sns\n",
    "import matplotlib.pyplot as plt\n",
    "%matplotlib inline\n",
    "from keras.models import Sequential\n",
    "from keras.layers import Dense,LSTM,Dropout\n",
    "from sklearn.preprocessing import StandardScaler"
   ]
  },
  {
   "cell_type": "markdown",
   "metadata": {
    "colab_type": "text",
    "id": "_mvnRs_fs248"
   },
   "source": [
    "# VERSIONS"
   ]
  },
  {
   "cell_type": "code",
   "execution_count": null,
   "metadata": {
    "colab": {
     "base_uri": "https://localhost:8080/",
     "height": 67
    },
    "colab_type": "code",
    "id": "u8gn3Isj1d6H",
    "outputId": "130606b5-d61f-41b3-c8eb-6f5de8d97c2f"
   },
   "outputs": [
    {
     "name": "stdout",
     "output_type": "stream",
     "text": [
      "1.18.5\n",
      "1.0.5\n",
      "0.10.1\n"
     ]
    }
   ],
   "source": [
    "print(np.__version__)\n",
    "print(pd.__version__)\n",
    "print(sns.__version__)"
   ]
  },
  {
   "cell_type": "markdown",
   "metadata": {
    "colab_type": "text",
    "id": "lS3DB_hotFoQ"
   },
   "source": [
    "# IMPORTING DATASET\n",
    "\n",
    "I have downloaded the dataset from kaggle.https://www.kaggle.com/camnugent/sandp500/download\n"
   ]
  },
  {
   "cell_type": "markdown",
   "metadata": {
    "colab_type": "text",
    "id": "UyXHjLJwPEos"
   },
   "source": [
    "# LOADING THE DATASET"
   ]
  },
  {
   "cell_type": "code",
   "execution_count": null,
   "metadata": {
    "colab": {
     "base_uri": "https://localhost:8080/",
     "height": 34
    },
    "colab_type": "code",
    "id": "3j7WILuZcPRQ",
    "outputId": "68c44686-8e0e-4762-a6df-745e292d1b1b"
   },
   "outputs": [
    {
     "data": {
      "text/plain": [
       "(619040, 7)"
      ]
     },
     "execution_count": 11,
     "metadata": {
      "tags": []
     },
     "output_type": "execute_result"
    }
   ],
   "source": [
    "df = pd.read_csv('My Drive/summer internship/all_stocks_5yr.csv')\n",
    "df.shape"
   ]
  },
  {
   "cell_type": "markdown",
   "metadata": {
    "colab_type": "text",
    "id": "r02Wd0zYOhEn"
   },
   "source": [
    "There are 619040 rows and 7 columns in my Dataset"
   ]
  },
  {
   "cell_type": "code",
   "execution_count": null,
   "metadata": {
    "colab": {
     "base_uri": "https://localhost:8080/",
     "height": 34
    },
    "colab_type": "code",
    "id": "u2LTjwKoT0C-",
    "outputId": "cc11a0da-da60-44f8-fdc4-5fbe33bb5f98"
   },
   "outputs": [
    {
     "data": {
      "text/plain": [
       "505"
      ]
     },
     "execution_count": 12,
     "metadata": {
      "tags": []
     },
     "output_type": "execute_result"
    }
   ],
   "source": [
    "df.Name.nunique()"
   ]
  },
  {
   "cell_type": "markdown",
   "metadata": {
    "colab_type": "text",
    "id": "UQo3r4xpPPG1"
   },
   "source": [
    "There are 505 unique companies in \"Name\" column"
   ]
  },
  {
   "cell_type": "markdown",
   "metadata": {
    "colab_type": "text",
    "id": "6aa1AGuMPi0R"
   },
   "source": [
    "# SELECTING A PARTICULAR COMPANY"
   ]
  },
  {
   "cell_type": "code",
   "execution_count": null,
   "metadata": {
    "colab": {
     "base_uri": "https://localhost:8080/",
     "height": 195
    },
    "colab_type": "code",
    "id": "RWTyhjCGT0DG",
    "outputId": "ffe53b5d-ca4e-4349-f1ee-495dab1040fc"
   },
   "outputs": [
    {
     "data": {
      "text/html": [
       "<div>\n",
       "<style scoped>\n",
       "    .dataframe tbody tr th:only-of-type {\n",
       "        vertical-align: middle;\n",
       "    }\n",
       "\n",
       "    .dataframe tbody tr th {\n",
       "        vertical-align: top;\n",
       "    }\n",
       "\n",
       "    .dataframe thead th {\n",
       "        text-align: right;\n",
       "    }\n",
       "</style>\n",
       "<table border=\"1\" class=\"dataframe\">\n",
       "  <thead>\n",
       "    <tr style=\"text-align: right;\">\n",
       "      <th></th>\n",
       "      <th>date</th>\n",
       "      <th>open</th>\n",
       "      <th>high</th>\n",
       "      <th>low</th>\n",
       "      <th>close</th>\n",
       "      <th>volume</th>\n",
       "      <th>Name</th>\n",
       "    </tr>\n",
       "  </thead>\n",
       "  <tbody>\n",
       "    <tr>\n",
       "      <th>140740</th>\n",
       "      <td>2013-06-13</td>\n",
       "      <td>17.50</td>\n",
       "      <td>17.52</td>\n",
       "      <td>16.90</td>\n",
       "      <td>17.36</td>\n",
       "      <td>46263008</td>\n",
       "      <td>COTY</td>\n",
       "    </tr>\n",
       "    <tr>\n",
       "      <th>140741</th>\n",
       "      <td>2013-06-14</td>\n",
       "      <td>17.45</td>\n",
       "      <td>17.55</td>\n",
       "      <td>17.20</td>\n",
       "      <td>17.52</td>\n",
       "      <td>9049475</td>\n",
       "      <td>COTY</td>\n",
       "    </tr>\n",
       "    <tr>\n",
       "      <th>140742</th>\n",
       "      <td>2013-06-17</td>\n",
       "      <td>17.61</td>\n",
       "      <td>17.65</td>\n",
       "      <td>17.31</td>\n",
       "      <td>17.39</td>\n",
       "      <td>5489346</td>\n",
       "      <td>COTY</td>\n",
       "    </tr>\n",
       "    <tr>\n",
       "      <th>140743</th>\n",
       "      <td>2013-06-18</td>\n",
       "      <td>17.39</td>\n",
       "      <td>17.42</td>\n",
       "      <td>17.16</td>\n",
       "      <td>17.30</td>\n",
       "      <td>6717150</td>\n",
       "      <td>COTY</td>\n",
       "    </tr>\n",
       "    <tr>\n",
       "      <th>140744</th>\n",
       "      <td>2013-06-19</td>\n",
       "      <td>17.25</td>\n",
       "      <td>17.35</td>\n",
       "      <td>16.40</td>\n",
       "      <td>17.19</td>\n",
       "      <td>7128541</td>\n",
       "      <td>COTY</td>\n",
       "    </tr>\n",
       "  </tbody>\n",
       "</table>\n",
       "</div>"
      ],
      "text/plain": [
       "              date   open   high    low  close    volume  Name\n",
       "140740  2013-06-13  17.50  17.52  16.90  17.36  46263008  COTY\n",
       "140741  2013-06-14  17.45  17.55  17.20  17.52   9049475  COTY\n",
       "140742  2013-06-17  17.61  17.65  17.31  17.39   5489346  COTY\n",
       "140743  2013-06-18  17.39  17.42  17.16  17.30   6717150  COTY\n",
       "140744  2013-06-19  17.25  17.35  16.40  17.19   7128541  COTY"
      ]
     },
     "execution_count": 13,
     "metadata": {
      "tags": []
     },
     "output_type": "execute_result"
    }
   ],
   "source": [
    "data =df[df.Name=='COTY']\n",
    "data.head()"
   ]
  },
  {
   "cell_type": "markdown",
   "metadata": {
    "colab_type": "text",
    "id": "CqD2qqmKPvo7"
   },
   "source": [
    "I have selected a company named 'COTY'"
   ]
  },
  {
   "cell_type": "code",
   "execution_count": null,
   "metadata": {
    "colab": {
     "base_uri": "https://localhost:8080/",
     "height": 34
    },
    "colab_type": "code",
    "id": "uzWj6jMPQDr3",
    "outputId": "e27e9805-b79c-4f0f-f628-1cf6fc7a1aca"
   },
   "outputs": [
    {
     "data": {
      "text/plain": [
       "Index(['date', 'open', 'high', 'low', 'close', 'volume', 'Name'], dtype='object')"
      ]
     },
     "execution_count": 14,
     "metadata": {
      "tags": []
     },
     "output_type": "execute_result"
    }
   ],
   "source": [
    "data.columns"
   ]
  },
  {
   "cell_type": "code",
   "execution_count": null,
   "metadata": {
    "colab": {
     "base_uri": "https://localhost:8080/",
     "height": 402
    },
    "colab_type": "code",
    "id": "XNQrdG1GZO88",
    "outputId": "9b349e29-9772-4035-b999-8d5fdfb92160"
   },
   "outputs": [
    {
     "data": {
      "text/html": [
       "<div>\n",
       "<style scoped>\n",
       "    .dataframe tbody tr th:only-of-type {\n",
       "        vertical-align: middle;\n",
       "    }\n",
       "\n",
       "    .dataframe tbody tr th {\n",
       "        vertical-align: top;\n",
       "    }\n",
       "\n",
       "    .dataframe thead th {\n",
       "        text-align: right;\n",
       "    }\n",
       "</style>\n",
       "<table border=\"1\" class=\"dataframe\">\n",
       "  <thead>\n",
       "    <tr style=\"text-align: right;\">\n",
       "      <th></th>\n",
       "      <th>date</th>\n",
       "      <th>low</th>\n",
       "    </tr>\n",
       "  </thead>\n",
       "  <tbody>\n",
       "    <tr>\n",
       "      <th>140740</th>\n",
       "      <td>2013-06-13</td>\n",
       "      <td>16.90</td>\n",
       "    </tr>\n",
       "    <tr>\n",
       "      <th>140741</th>\n",
       "      <td>2013-06-14</td>\n",
       "      <td>17.20</td>\n",
       "    </tr>\n",
       "    <tr>\n",
       "      <th>140742</th>\n",
       "      <td>2013-06-17</td>\n",
       "      <td>17.31</td>\n",
       "    </tr>\n",
       "    <tr>\n",
       "      <th>140743</th>\n",
       "      <td>2013-06-18</td>\n",
       "      <td>17.16</td>\n",
       "    </tr>\n",
       "    <tr>\n",
       "      <th>140744</th>\n",
       "      <td>2013-06-19</td>\n",
       "      <td>16.40</td>\n",
       "    </tr>\n",
       "    <tr>\n",
       "      <th>...</th>\n",
       "      <td>...</td>\n",
       "      <td>...</td>\n",
       "    </tr>\n",
       "    <tr>\n",
       "      <th>141908</th>\n",
       "      <td>2018-02-01</td>\n",
       "      <td>18.64</td>\n",
       "    </tr>\n",
       "    <tr>\n",
       "      <th>141909</th>\n",
       "      <td>2018-02-02</td>\n",
       "      <td>18.03</td>\n",
       "    </tr>\n",
       "    <tr>\n",
       "      <th>141910</th>\n",
       "      <td>2018-02-05</td>\n",
       "      <td>17.26</td>\n",
       "    </tr>\n",
       "    <tr>\n",
       "      <th>141911</th>\n",
       "      <td>2018-02-06</td>\n",
       "      <td>16.50</td>\n",
       "    </tr>\n",
       "    <tr>\n",
       "      <th>141912</th>\n",
       "      <td>2018-02-07</td>\n",
       "      <td>17.15</td>\n",
       "    </tr>\n",
       "  </tbody>\n",
       "</table>\n",
       "<p>1173 rows × 2 columns</p>\n",
       "</div>"
      ],
      "text/plain": [
       "              date    low\n",
       "140740  2013-06-13  16.90\n",
       "140741  2013-06-14  17.20\n",
       "140742  2013-06-17  17.31\n",
       "140743  2013-06-18  17.16\n",
       "140744  2013-06-19  16.40\n",
       "...            ...    ...\n",
       "141908  2018-02-01  18.64\n",
       "141909  2018-02-02  18.03\n",
       "141910  2018-02-05  17.26\n",
       "141911  2018-02-06  16.50\n",
       "141912  2018-02-07  17.15\n",
       "\n",
       "[1173 rows x 2 columns]"
      ]
     },
     "execution_count": 15,
     "metadata": {
      "tags": []
     },
     "output_type": "execute_result"
    }
   ],
   "source": [
    "data = data[['date','low']]\n",
    "data"
   ]
  },
  {
   "cell_type": "markdown",
   "metadata": {
    "colab_type": "text",
    "id": "3Acb53zhPtVp"
   },
   "source": [
    "Selected Date and Low columns"
   ]
  },
  {
   "cell_type": "code",
   "execution_count": null,
   "metadata": {
    "colab": {
     "base_uri": "https://localhost:8080/",
     "height": 34
    },
    "colab_type": "code",
    "id": "kvq0BlhTT0DM",
    "outputId": "61f4d760-cbfc-4a00-95f3-16a2c778fd3a"
   },
   "outputs": [
    {
     "data": {
      "text/plain": [
       "(1173, 2)"
      ]
     },
     "execution_count": 16,
     "metadata": {
      "tags": []
     },
     "output_type": "execute_result"
    }
   ],
   "source": [
    "data.shape"
   ]
  },
  {
   "cell_type": "code",
   "execution_count": null,
   "metadata": {
    "colab": {
     "base_uri": "https://localhost:8080/",
     "height": 284
    },
    "colab_type": "code",
    "id": "Vok8RFXyT0DT",
    "outputId": "1b2e409d-155c-45b6-c585-4704101da541"
   },
   "outputs": [
    {
     "data": {
      "text/html": [
       "<div>\n",
       "<style scoped>\n",
       "    .dataframe tbody tr th:only-of-type {\n",
       "        vertical-align: middle;\n",
       "    }\n",
       "\n",
       "    .dataframe tbody tr th {\n",
       "        vertical-align: top;\n",
       "    }\n",
       "\n",
       "    .dataframe thead th {\n",
       "        text-align: right;\n",
       "    }\n",
       "</style>\n",
       "<table border=\"1\" class=\"dataframe\">\n",
       "  <thead>\n",
       "    <tr style=\"text-align: right;\">\n",
       "      <th></th>\n",
       "      <th>low</th>\n",
       "    </tr>\n",
       "  </thead>\n",
       "  <tbody>\n",
       "    <tr>\n",
       "      <th>count</th>\n",
       "      <td>1173.000000</td>\n",
       "    </tr>\n",
       "    <tr>\n",
       "      <th>mean</th>\n",
       "      <td>20.552763</td>\n",
       "    </tr>\n",
       "    <tr>\n",
       "      <th>std</th>\n",
       "      <td>4.722201</td>\n",
       "    </tr>\n",
       "    <tr>\n",
       "      <th>min</th>\n",
       "      <td>12.830000</td>\n",
       "    </tr>\n",
       "    <tr>\n",
       "      <th>25%</th>\n",
       "      <td>16.710000</td>\n",
       "    </tr>\n",
       "    <tr>\n",
       "      <th>50%</th>\n",
       "      <td>18.825000</td>\n",
       "    </tr>\n",
       "    <tr>\n",
       "      <th>75%</th>\n",
       "      <td>25.080000</td>\n",
       "    </tr>\n",
       "    <tr>\n",
       "      <th>max</th>\n",
       "      <td>32.120000</td>\n",
       "    </tr>\n",
       "  </tbody>\n",
       "</table>\n",
       "</div>"
      ],
      "text/plain": [
       "               low\n",
       "count  1173.000000\n",
       "mean     20.552763\n",
       "std       4.722201\n",
       "min      12.830000\n",
       "25%      16.710000\n",
       "50%      18.825000\n",
       "75%      25.080000\n",
       "max      32.120000"
      ]
     },
     "execution_count": 17,
     "metadata": {
      "tags": []
     },
     "output_type": "execute_result"
    }
   ],
   "source": [
    "data.describe()"
   ]
  },
  {
   "cell_type": "code",
   "execution_count": null,
   "metadata": {
    "colab": {
     "base_uri": "https://localhost:8080/",
     "height": 67
    },
    "colab_type": "code",
    "id": "yQvCFiQJ7iSv",
    "outputId": "a471dcff-7fcb-44b3-8485-7052b5f7a9b0"
   },
   "outputs": [
    {
     "data": {
      "text/plain": [
       "date    0\n",
       "low     0\n",
       "dtype: int64"
      ]
     },
     "execution_count": 18,
     "metadata": {
      "tags": []
     },
     "output_type": "execute_result"
    }
   ],
   "source": [
    "data.isnull().sum()"
   ]
  },
  {
   "cell_type": "markdown",
   "metadata": {
    "colab_type": "text",
    "id": "ha5c_DgeQjh_"
   },
   "source": [
    "There are no missing values in the Column Date and Low"
   ]
  },
  {
   "cell_type": "code",
   "execution_count": null,
   "metadata": {
    "colab": {
     "base_uri": "https://localhost:8080/",
     "height": 295
    },
    "colab_type": "code",
    "id": "nkW49N39ZbyX",
    "outputId": "fe901cf7-4f9d-4256-ecad-0f043cdab62e"
   },
   "outputs": [
    {
     "data": {
      "image/png": "[encoded data removed]",
      "text/plain": [
       "<Figure size 432x288 with 1 Axes>"
      ]
     },
     "metadata": {
      "needs_background": "light",
      "tags": []
     },
     "output_type": "display_data"
    }
   ],
   "source": [
    "#line plot\n",
    "plt.plot(data['date'],data['low'])\n",
    "plt.title('COTY low values')\n",
    "plt.xlabel('date')\n",
    "plt.ylabel('low')\n",
    "plt.show()"
   ]
  },
  {
   "cell_type": "markdown",
   "metadata": {
    "colab_type": "text",
    "id": "QHMIRPhvRIgv"
   },
   "source": [
    "We can observe Uptrends and Downtrends in Low values"
   ]
  },
  {
   "cell_type": "code",
   "execution_count": null,
   "metadata": {
    "colab": {
     "base_uri": "https://localhost:8080/",
     "height": 67
    },
    "colab_type": "code",
    "id": "HpEuKUOmZlIn",
    "outputId": "409d7633-28a2-4736-904f-5ee7fa29f2a6"
   },
   "outputs": [
    {
     "data": {
      "text/plain": [
       "date    0\n",
       "low     0\n",
       "dtype: int64"
      ]
     },
     "execution_count": 20,
     "metadata": {
      "tags": []
     },
     "output_type": "execute_result"
    }
   ],
   "source": [
    "#checking missing values in the data\n",
    "data.isnull().sum()"
   ]
  },
  {
   "cell_type": "code",
   "execution_count": null,
   "metadata": {
    "colab": {
     "base_uri": "https://localhost:8080/",
     "height": 286
    },
    "colab_type": "code",
    "id": "_pDbPulagvfZ",
    "outputId": "ddd402e9-908f-4ec7-de72-3466c4f9f66c"
   },
   "outputs": [
    {
     "data": {
      "text/plain": [
       "140740    2013-06-13\n",
       "140741    2013-06-14\n",
       "140742    2013-06-17\n",
       "140743    2013-06-18\n",
       "140744    2013-06-19\n",
       "140745    2013-06-20\n",
       "140746    2013-06-21\n",
       "140747    2013-06-24\n",
       "140748    2013-06-25\n",
       "140749    2013-06-26\n",
       "140750    2013-06-27\n",
       "140751    2013-06-28\n",
       "140752    2013-07-01\n",
       "140753    2013-07-02\n",
       "140754    2013-07-03\n",
       "Name: date, dtype: object"
      ]
     },
     "execution_count": 21,
     "metadata": {
      "tags": []
     },
     "output_type": "execute_result"
    }
   ],
   "source": [
    "data.date[:15]"
   ]
  },
  {
   "cell_type": "markdown",
   "metadata": {
    "colab_type": "text",
    "id": "DZQMyX43RhQ7"
   },
   "source": [
    "# CREATING INPUT AND OUTPUT"
   ]
  },
  {
   "cell_type": "code",
   "execution_count": null,
   "metadata": {
    "colab": {
     "base_uri": "https://localhost:8080/",
     "height": 554
    },
    "colab_type": "code",
    "id": "YfKBsFVTT0DY",
    "outputId": "2d313331-32a2-44bd-8767-6fee6dba0aa5"
   },
   "outputs": [
    {
     "name": "stdout",
     "output_type": "stream",
     "text": [
      "[140740    16.90\n",
      "140741    17.20\n",
      "140742    17.31\n",
      "140743    17.16\n",
      "140744    16.40\n",
      "140745    16.31\n",
      "140746    16.50\n",
      "140747    16.46\n",
      "140748    16.55\n",
      "140749    16.80\n",
      "Name: low, dtype: float64, 140741    17.20\n",
      "140742    17.31\n",
      "140743    17.16\n",
      "140744    16.40\n",
      "140745    16.31\n",
      "140746    16.50\n",
      "140747    16.46\n",
      "140748    16.55\n",
      "140749    16.80\n",
      "140750    16.97\n",
      "Name: low, dtype: float64, 140742    17.31\n",
      "140743    17.16\n",
      "140744    16.40\n",
      "140745    16.31\n",
      "140746    16.50\n",
      "140747    16.46\n",
      "140748    16.55\n",
      "140749    16.80\n",
      "140750    16.97\n",
      "140751    16.91\n",
      "Name: low, dtype: float64]\n",
      "[16.97, 16.91, 17.07, 17.1]\n"
     ]
    }
   ],
   "source": [
    "## preparing the data\n",
    "## last 10 days data as input\n",
    "\n",
    "## X --[[d1-d10],[d2-d11],..]\n",
    "## y --[d11,d12,...]\n",
    "X = [] ##input\n",
    "y = [] ##output\n",
    "for i in range(data.shape[0]-10-1):\n",
    "    X.append(data['low'][i:i+10])\n",
    "    y.append(data['low'][i+140750])\n",
    "print(X[:3])\n",
    "print(y[:4])"
   ]
  },
  {
   "cell_type": "markdown",
   "metadata": {
    "colab_type": "text",
    "id": "OYBwXm_WRvDt"
   },
   "source": [
    "Predicting the 11th day value based on the previous 10 days values"
   ]
  },
  {
   "cell_type": "code",
   "execution_count": null,
   "metadata": {
    "colab": {},
    "colab_type": "code",
    "id": "gB2J5X3bT0Dd"
   },
   "outputs": [],
   "source": [
    "X = np.array(X)"
   ]
  },
  {
   "cell_type": "markdown",
   "metadata": {
    "colab_type": "text",
    "id": "mX5uV5DISDLs"
   },
   "source": [
    "converted into numpy array "
   ]
  },
  {
   "cell_type": "code",
   "execution_count": null,
   "metadata": {
    "colab": {
     "base_uri": "https://localhost:8080/",
     "height": 195
    },
    "colab_type": "code",
    "id": "ydSA2tOoT0Dh",
    "outputId": "3494c6cc-70cd-4eb4-9981-6c1c7e7407cc"
   },
   "outputs": [
    {
     "data": {
      "text/html": [
       "<div>\n",
       "<style scoped>\n",
       "    .dataframe tbody tr th:only-of-type {\n",
       "        vertical-align: middle;\n",
       "    }\n",
       "\n",
       "    .dataframe tbody tr th {\n",
       "        vertical-align: top;\n",
       "    }\n",
       "\n",
       "    .dataframe thead th {\n",
       "        text-align: right;\n",
       "    }\n",
       "</style>\n",
       "<table border=\"1\" class=\"dataframe\">\n",
       "  <thead>\n",
       "    <tr style=\"text-align: right;\">\n",
       "      <th></th>\n",
       "      <th>d1</th>\n",
       "      <th>d2</th>\n",
       "      <th>d3</th>\n",
       "      <th>d4</th>\n",
       "      <th>d5</th>\n",
       "      <th>d6</th>\n",
       "      <th>d7</th>\n",
       "      <th>d8</th>\n",
       "      <th>d9</th>\n",
       "      <th>d10</th>\n",
       "    </tr>\n",
       "  </thead>\n",
       "  <tbody>\n",
       "    <tr>\n",
       "      <th>0</th>\n",
       "      <td>16.90</td>\n",
       "      <td>17.20</td>\n",
       "      <td>17.31</td>\n",
       "      <td>17.16</td>\n",
       "      <td>16.40</td>\n",
       "      <td>16.31</td>\n",
       "      <td>16.50</td>\n",
       "      <td>16.46</td>\n",
       "      <td>16.55</td>\n",
       "      <td>16.80</td>\n",
       "    </tr>\n",
       "    <tr>\n",
       "      <th>1</th>\n",
       "      <td>17.20</td>\n",
       "      <td>17.31</td>\n",
       "      <td>17.16</td>\n",
       "      <td>16.40</td>\n",
       "      <td>16.31</td>\n",
       "      <td>16.50</td>\n",
       "      <td>16.46</td>\n",
       "      <td>16.55</td>\n",
       "      <td>16.80</td>\n",
       "      <td>16.97</td>\n",
       "    </tr>\n",
       "    <tr>\n",
       "      <th>2</th>\n",
       "      <td>17.31</td>\n",
       "      <td>17.16</td>\n",
       "      <td>16.40</td>\n",
       "      <td>16.31</td>\n",
       "      <td>16.50</td>\n",
       "      <td>16.46</td>\n",
       "      <td>16.55</td>\n",
       "      <td>16.80</td>\n",
       "      <td>16.97</td>\n",
       "      <td>16.91</td>\n",
       "    </tr>\n",
       "    <tr>\n",
       "      <th>3</th>\n",
       "      <td>17.16</td>\n",
       "      <td>16.40</td>\n",
       "      <td>16.31</td>\n",
       "      <td>16.50</td>\n",
       "      <td>16.46</td>\n",
       "      <td>16.55</td>\n",
       "      <td>16.80</td>\n",
       "      <td>16.97</td>\n",
       "      <td>16.91</td>\n",
       "      <td>17.07</td>\n",
       "    </tr>\n",
       "    <tr>\n",
       "      <th>4</th>\n",
       "      <td>16.40</td>\n",
       "      <td>16.31</td>\n",
       "      <td>16.50</td>\n",
       "      <td>16.46</td>\n",
       "      <td>16.55</td>\n",
       "      <td>16.80</td>\n",
       "      <td>16.97</td>\n",
       "      <td>16.91</td>\n",
       "      <td>17.07</td>\n",
       "      <td>17.10</td>\n",
       "    </tr>\n",
       "  </tbody>\n",
       "</table>\n",
       "</div>"
      ],
      "text/plain": [
       "      d1     d2     d3     d4     d5     d6     d7     d8     d9    d10\n",
       "0  16.90  17.20  17.31  17.16  16.40  16.31  16.50  16.46  16.55  16.80\n",
       "1  17.20  17.31  17.16  16.40  16.31  16.50  16.46  16.55  16.80  16.97\n",
       "2  17.31  17.16  16.40  16.31  16.50  16.46  16.55  16.80  16.97  16.91\n",
       "3  17.16  16.40  16.31  16.50  16.46  16.55  16.80  16.97  16.91  17.07\n",
       "4  16.40  16.31  16.50  16.46  16.55  16.80  16.97  16.91  17.07  17.10"
      ]
     },
     "execution_count": 24,
     "metadata": {
      "tags": []
     },
     "output_type": "execute_result"
    }
   ],
   "source": [
    "df1 =pd.DataFrame(X,columns=['d1','d2','d3','d4','d5','d6','d7','d8','d9','d10'])\n",
    "df1.head()"
   ]
  },
  {
   "cell_type": "markdown",
   "metadata": {
    "colab_type": "text",
    "id": "KLBGJbfCSRUR"
   },
   "source": [
    "created a dataframe for the values"
   ]
  },
  {
   "cell_type": "code",
   "execution_count": null,
   "metadata": {
    "colab": {
     "base_uri": "https://localhost:8080/",
     "height": 195
    },
    "colab_type": "code",
    "id": "8OZ9dizST0Dl",
    "outputId": "1e40d22f-1884-4027-8b2d-52b0d1c9ce19"
   },
   "outputs": [
    {
     "data": {
      "text/html": [
       "<div>\n",
       "<style scoped>\n",
       "    .dataframe tbody tr th:only-of-type {\n",
       "        vertical-align: middle;\n",
       "    }\n",
       "\n",
       "    .dataframe tbody tr th {\n",
       "        vertical-align: top;\n",
       "    }\n",
       "\n",
       "    .dataframe thead th {\n",
       "        text-align: right;\n",
       "    }\n",
       "</style>\n",
       "<table border=\"1\" class=\"dataframe\">\n",
       "  <thead>\n",
       "    <tr style=\"text-align: right;\">\n",
       "      <th></th>\n",
       "      <th>d1</th>\n",
       "      <th>d2</th>\n",
       "      <th>d3</th>\n",
       "      <th>d4</th>\n",
       "      <th>d5</th>\n",
       "      <th>d6</th>\n",
       "      <th>d7</th>\n",
       "      <th>d8</th>\n",
       "      <th>d9</th>\n",
       "      <th>d10</th>\n",
       "      <th>d11</th>\n",
       "    </tr>\n",
       "  </thead>\n",
       "  <tbody>\n",
       "    <tr>\n",
       "      <th>0</th>\n",
       "      <td>16.90</td>\n",
       "      <td>17.20</td>\n",
       "      <td>17.31</td>\n",
       "      <td>17.16</td>\n",
       "      <td>16.40</td>\n",
       "      <td>16.31</td>\n",
       "      <td>16.50</td>\n",
       "      <td>16.46</td>\n",
       "      <td>16.55</td>\n",
       "      <td>16.80</td>\n",
       "      <td>16.97</td>\n",
       "    </tr>\n",
       "    <tr>\n",
       "      <th>1</th>\n",
       "      <td>17.20</td>\n",
       "      <td>17.31</td>\n",
       "      <td>17.16</td>\n",
       "      <td>16.40</td>\n",
       "      <td>16.31</td>\n",
       "      <td>16.50</td>\n",
       "      <td>16.46</td>\n",
       "      <td>16.55</td>\n",
       "      <td>16.80</td>\n",
       "      <td>16.97</td>\n",
       "      <td>16.91</td>\n",
       "    </tr>\n",
       "    <tr>\n",
       "      <th>2</th>\n",
       "      <td>17.31</td>\n",
       "      <td>17.16</td>\n",
       "      <td>16.40</td>\n",
       "      <td>16.31</td>\n",
       "      <td>16.50</td>\n",
       "      <td>16.46</td>\n",
       "      <td>16.55</td>\n",
       "      <td>16.80</td>\n",
       "      <td>16.97</td>\n",
       "      <td>16.91</td>\n",
       "      <td>17.07</td>\n",
       "    </tr>\n",
       "    <tr>\n",
       "      <th>3</th>\n",
       "      <td>17.16</td>\n",
       "      <td>16.40</td>\n",
       "      <td>16.31</td>\n",
       "      <td>16.50</td>\n",
       "      <td>16.46</td>\n",
       "      <td>16.55</td>\n",
       "      <td>16.80</td>\n",
       "      <td>16.97</td>\n",
       "      <td>16.91</td>\n",
       "      <td>17.07</td>\n",
       "      <td>17.10</td>\n",
       "    </tr>\n",
       "    <tr>\n",
       "      <th>4</th>\n",
       "      <td>16.40</td>\n",
       "      <td>16.31</td>\n",
       "      <td>16.50</td>\n",
       "      <td>16.46</td>\n",
       "      <td>16.55</td>\n",
       "      <td>16.80</td>\n",
       "      <td>16.97</td>\n",
       "      <td>16.91</td>\n",
       "      <td>17.07</td>\n",
       "      <td>17.10</td>\n",
       "      <td>17.14</td>\n",
       "    </tr>\n",
       "  </tbody>\n",
       "</table>\n",
       "</div>"
      ],
      "text/plain": [
       "      d1     d2     d3     d4     d5     d6     d7     d8     d9    d10    d11\n",
       "0  16.90  17.20  17.31  17.16  16.40  16.31  16.50  16.46  16.55  16.80  16.97\n",
       "1  17.20  17.31  17.16  16.40  16.31  16.50  16.46  16.55  16.80  16.97  16.91\n",
       "2  17.31  17.16  16.40  16.31  16.50  16.46  16.55  16.80  16.97  16.91  17.07\n",
       "3  17.16  16.40  16.31  16.50  16.46  16.55  16.80  16.97  16.91  17.07  17.10\n",
       "4  16.40  16.31  16.50  16.46  16.55  16.80  16.97  16.91  17.07  17.10  17.14"
      ]
     },
     "execution_count": 25,
     "metadata": {
      "tags": []
     },
     "output_type": "execute_result"
    }
   ],
   "source": [
    "df1['d11']=y\n",
    "df1.head()"
   ]
  },
  {
   "cell_type": "markdown",
   "metadata": {
    "colab_type": "text",
    "id": "v6Ek6ewlSZJ-"
   },
   "source": [
    "predicting the next column"
   ]
  },
  {
   "cell_type": "markdown",
   "metadata": {
    "colab_type": "text",
    "id": "5w4QwQEqSiE5"
   },
   "source": [
    "# Train test split"
   ]
  },
  {
   "cell_type": "code",
   "execution_count": null,
   "metadata": {
    "colab": {
     "base_uri": "https://localhost:8080/",
     "height": 34
    },
    "colab_type": "code",
    "id": "uXj2ua8uT0Dp",
    "outputId": "ad78a5b5-4126-4f14-ad8f-df77260c58a5"
   },
   "outputs": [
    {
     "data": {
      "text/plain": [
       "(1162, 11)"
      ]
     },
     "execution_count": 26,
     "metadata": {
      "tags": []
     },
     "output_type": "execute_result"
    }
   ],
   "source": [
    "df1.shape"
   ]
  },
  {
   "cell_type": "code",
   "execution_count": null,
   "metadata": {
    "colab": {
     "base_uri": "https://localhost:8080/",
     "height": 34
    },
    "colab_type": "code",
    "id": "HPLVS60FaWsb",
    "outputId": "9830bf19-5b72-4e52-addb-ad1cf488dee7"
   },
   "outputs": [
    {
     "data": {
      "text/plain": [
       "929.6"
      ]
     },
     "execution_count": 27,
     "metadata": {
      "tags": []
     },
     "output_type": "execute_result"
    }
   ],
   "source": [
    "1162 * 0.8"
   ]
  },
  {
   "cell_type": "code",
   "execution_count": null,
   "metadata": {
    "colab": {
     "base_uri": "https://localhost:8080/",
     "height": 84
    },
    "colab_type": "code",
    "id": "NkpTC6qcT0Dr",
    "outputId": "938ac9a5-2926-4b06-9fa0-02d8311601fc"
   },
   "outputs": [
    {
     "name": "stdout",
     "output_type": "stream",
     "text": [
      "(929, 10)\n",
      "(233, 10)\n",
      "(929,)\n",
      "(233,)\n"
     ]
    }
   ],
   "source": [
    "## train_test_split\n",
    "X_train=df1.iloc[:929,:10]\n",
    "X_test=df1.iloc[929:,:10]\n",
    "y_train=df1['d11'][:929]\n",
    "y_test=df1['d11'][929:]\n",
    "print(X_train.shape)\n",
    "print(X_test.shape)\n",
    "print(y_train.shape)\n",
    "print(y_test.shape)"
   ]
  },
  {
   "cell_type": "markdown",
   "metadata": {
    "colab_type": "text",
    "id": "3bOc4lOpSo_d"
   },
   "source": [
    "# scaling the data"
   ]
  },
  {
   "cell_type": "code",
   "execution_count": null,
   "metadata": {
    "colab": {
     "base_uri": "https://localhost:8080/",
     "height": 284
    },
    "colab_type": "code",
    "id": "YIHZW9xdT0Dt",
    "outputId": "2d78e3a0-4f4e-4ce3-f4b8-59033674760e"
   },
   "outputs": [
    {
     "data": {
      "text/html": [
       "<div>\n",
       "<style scoped>\n",
       "    .dataframe tbody tr th:only-of-type {\n",
       "        vertical-align: middle;\n",
       "    }\n",
       "\n",
       "    .dataframe tbody tr th {\n",
       "        vertical-align: top;\n",
       "    }\n",
       "\n",
       "    .dataframe thead th {\n",
       "        text-align: right;\n",
       "    }\n",
       "</style>\n",
       "<table border=\"1\" class=\"dataframe\">\n",
       "  <thead>\n",
       "    <tr style=\"text-align: right;\">\n",
       "      <th></th>\n",
       "      <th>d1</th>\n",
       "      <th>d2</th>\n",
       "      <th>d3</th>\n",
       "      <th>d4</th>\n",
       "      <th>d5</th>\n",
       "      <th>d6</th>\n",
       "      <th>d7</th>\n",
       "      <th>d8</th>\n",
       "      <th>d9</th>\n",
       "      <th>d10</th>\n",
       "    </tr>\n",
       "  </thead>\n",
       "  <tbody>\n",
       "    <tr>\n",
       "      <th>count</th>\n",
       "      <td>9.290000e+02</td>\n",
       "      <td>9.290000e+02</td>\n",
       "      <td>9.290000e+02</td>\n",
       "      <td>9.290000e+02</td>\n",
       "      <td>9.290000e+02</td>\n",
       "      <td>9.290000e+02</td>\n",
       "      <td>9.290000e+02</td>\n",
       "      <td>9.290000e+02</td>\n",
       "      <td>9.290000e+02</td>\n",
       "      <td>9.290000e+02</td>\n",
       "    </tr>\n",
       "    <tr>\n",
       "      <th>mean</th>\n",
       "      <td>-1.603788e-16</td>\n",
       "      <td>-2.270042e-16</td>\n",
       "      <td>-2.664416e-16</td>\n",
       "      <td>-7.803828e-17</td>\n",
       "      <td>-3.909085e-16</td>\n",
       "      <td>-9.849794e-16</td>\n",
       "      <td>-5.282224e-16</td>\n",
       "      <td>9.301852e-16</td>\n",
       "      <td>2.520409e-16</td>\n",
       "      <td>-2.485752e-17</td>\n",
       "    </tr>\n",
       "    <tr>\n",
       "      <th>std</th>\n",
       "      <td>1.000539e+00</td>\n",
       "      <td>1.000539e+00</td>\n",
       "      <td>1.000539e+00</td>\n",
       "      <td>1.000539e+00</td>\n",
       "      <td>1.000539e+00</td>\n",
       "      <td>1.000539e+00</td>\n",
       "      <td>1.000539e+00</td>\n",
       "      <td>1.000539e+00</td>\n",
       "      <td>1.000539e+00</td>\n",
       "      <td>1.000539e+00</td>\n",
       "    </tr>\n",
       "    <tr>\n",
       "      <th>min</th>\n",
       "      <td>-1.664968e+00</td>\n",
       "      <td>-1.665924e+00</td>\n",
       "      <td>-1.666611e+00</td>\n",
       "      <td>-1.667245e+00</td>\n",
       "      <td>-1.667804e+00</td>\n",
       "      <td>-1.668793e+00</td>\n",
       "      <td>-1.669940e+00</td>\n",
       "      <td>-1.671038e+00</td>\n",
       "      <td>-1.672100e+00</td>\n",
       "      <td>-1.672963e+00</td>\n",
       "    </tr>\n",
       "    <tr>\n",
       "      <th>25%</th>\n",
       "      <td>-9.121443e-01</td>\n",
       "      <td>-9.128766e-01</td>\n",
       "      <td>-9.134028e-01</td>\n",
       "      <td>-9.138889e-01</td>\n",
       "      <td>-9.143133e-01</td>\n",
       "      <td>-9.100875e-01</td>\n",
       "      <td>-9.089594e-01</td>\n",
       "      <td>-9.077995e-01</td>\n",
       "      <td>-9.085955e-01</td>\n",
       "      <td>-9.072494e-01</td>\n",
       "    </tr>\n",
       "    <tr>\n",
       "      <th>50%</th>\n",
       "      <td>-2.684251e-01</td>\n",
       "      <td>-2.689662e-01</td>\n",
       "      <td>-2.693548e-01</td>\n",
       "      <td>-2.697151e-01</td>\n",
       "      <td>-2.700242e-01</td>\n",
       "      <td>-2.705507e-01</td>\n",
       "      <td>-2.711667e-01</td>\n",
       "      <td>-2.717672e-01</td>\n",
       "      <td>-2.723413e-01</td>\n",
       "      <td>-2.728009e-01</td>\n",
       "    </tr>\n",
       "    <tr>\n",
       "      <th>75%</th>\n",
       "      <td>1.007111e+00</td>\n",
       "      <td>1.006949e+00</td>\n",
       "      <td>1.006833e+00</td>\n",
       "      <td>1.006722e+00</td>\n",
       "      <td>1.006641e+00</td>\n",
       "      <td>1.006537e+00</td>\n",
       "      <td>1.006406e+00</td>\n",
       "      <td>1.006260e+00</td>\n",
       "      <td>1.006132e+00</td>\n",
       "      <td>1.006041e+00</td>\n",
       "    </tr>\n",
       "    <tr>\n",
       "      <th>max</th>\n",
       "      <td>2.161640e+00</td>\n",
       "      <td>2.161820e+00</td>\n",
       "      <td>2.161951e+00</td>\n",
       "      <td>2.162066e+00</td>\n",
       "      <td>2.162192e+00</td>\n",
       "      <td>2.162470e+00</td>\n",
       "      <td>2.162777e+00</td>\n",
       "      <td>2.163044e+00</td>\n",
       "      <td>2.163319e+00</td>\n",
       "      <td>2.163561e+00</td>\n",
       "    </tr>\n",
       "  </tbody>\n",
       "</table>\n",
       "</div>"
      ],
      "text/plain": [
       "                 d1            d2  ...            d9           d10\n",
       "count  9.290000e+02  9.290000e+02  ...  9.290000e+02  9.290000e+02\n",
       "mean  -1.603788e-16 -2.270042e-16  ...  2.520409e-16 -2.485752e-17\n",
       "std    1.000539e+00  1.000539e+00  ...  1.000539e+00  1.000539e+00\n",
       "min   -1.664968e+00 -1.665924e+00  ... -1.672100e+00 -1.672963e+00\n",
       "25%   -9.121443e-01 -9.128766e-01  ... -9.085955e-01 -9.072494e-01\n",
       "50%   -2.684251e-01 -2.689662e-01  ... -2.723413e-01 -2.728009e-01\n",
       "75%    1.007111e+00  1.006949e+00  ...  1.006132e+00  1.006041e+00\n",
       "max    2.161640e+00  2.161820e+00  ...  2.163319e+00  2.163561e+00\n",
       "\n",
       "[8 rows x 10 columns]"
      ]
     },
     "execution_count": 29,
     "metadata": {
      "tags": []
     },
     "output_type": "execute_result"
    }
   ],
   "source": [
    "from sklearn.preprocessing import StandardScaler\n",
    "sc=StandardScaler()\n",
    "sc.fit(X_train)\n",
    "X_train_sc=pd.DataFrame(sc.transform(X_train),columns=X_train.columns)\n",
    "X_test_sc=pd.DataFrame(sc.transform(X_test),columns=X_test.columns)\n",
    "X_train_sc.describe()"
   ]
  },
  {
   "cell_type": "markdown",
   "metadata": {
    "colab_type": "text",
    "id": "OMPaNru9S6Dp"
   },
   "source": [
    "# RESHAPING THE INPUT DATA"
   ]
  },
  {
   "cell_type": "code",
   "execution_count": null,
   "metadata": {
    "colab": {},
    "colab_type": "code",
    "id": "JVB8eQmhT0D1"
   },
   "outputs": [],
   "source": [
    "X_train_sc = X_train_sc.values.reshape(929,10,1)\n",
    "X_test_sc = X_test_sc.values.reshape(233,10,1)"
   ]
  },
  {
   "cell_type": "markdown",
   "metadata": {
    "colab_type": "text",
    "id": "SE6nywaRTCQR"
   },
   "source": [
    "# BUILDING LSTM MODEL"
   ]
  },
  {
   "cell_type": "code",
   "execution_count": null,
   "metadata": {
    "colab": {
     "base_uri": "https://localhost:8080/",
     "height": 218
    },
    "colab_type": "code",
    "id": "iG1rEsCCT0Dx",
    "outputId": "db98b86e-b247-4b68-c7d2-cd6db229a7b2"
   },
   "outputs": [
    {
     "name": "stdout",
     "output_type": "stream",
     "text": [
      "Model: \"sequential_1\"\n",
      "_________________________________________________________________\n",
      "Layer (type)                 Output Shape              Param #   \n",
      "=================================================================\n",
      "lstm_1 (LSTM)                (None, 256)               264192    \n",
      "_________________________________________________________________\n",
      "dense_1 (Dense)              (None, 1)                 257       \n",
      "=================================================================\n",
      "Total params: 264,449\n",
      "Trainable params: 264,449\n",
      "Non-trainable params: 0\n",
      "_________________________________________________________________\n"
     ]
    }
   ],
   "source": [
    "from keras.models import Sequential\n",
    "from keras.layers import Dense,LSTM,Dropout\n",
    "model=Sequential()\n",
    "model.add(LSTM(256,input_shape=(10,1)))\n",
    "model.add(Dense(1))\n",
    "model.summary()"
   ]
  },
  {
   "cell_type": "markdown",
   "metadata": {
    "colab_type": "text",
    "id": "jKh5h0HT71gd"
   },
   "source": [
    "# COMPILING THE MODEL"
   ]
  },
  {
   "cell_type": "code",
   "execution_count": null,
   "metadata": {
    "colab": {},
    "colab_type": "code",
    "id": "8RjF18ilT0Dz"
   },
   "outputs": [],
   "source": [
    "model.compile(optimizer='adam',loss='mse')"
   ]
  },
  {
   "cell_type": "markdown",
   "metadata": {
    "colab_type": "text",
    "id": "v_uSjSPXTI9d"
   },
   "source": [
    "compiled the model with adam  and mse "
   ]
  },
  {
   "cell_type": "markdown",
   "metadata": {
    "colab_type": "text",
    "id": "S-nSJHF-76bw"
   },
   "source": [
    "# FITTING THE MODEL\n",
    "\n"
   ]
  },
  {
   "cell_type": "code",
   "execution_count": null,
   "metadata": {
    "colab": {
     "base_uri": "https://localhost:8080/",
     "height": 1000
    },
    "colab_type": "code",
    "id": "OfSmp9uvT0D2",
    "outputId": "44f204d1-06d2-477e-aad4-5200143225f1",
    "scrolled": false
   },
   "outputs": [
    {
     "name": "stdout",
     "output_type": "stream",
     "text": [
      "Train on 929 samples, validate on 233 samples\n",
      "Epoch 1/100\n",
      "929/929 [==============================] - 3s 3ms/step - loss: 275.5871 - val_loss: 17.2186\n",
      "Epoch 2/100\n",
      "929/929 [==============================] - 1s 1ms/step - loss: 26.7819 - val_loss: 14.0905\n",
      "Epoch 3/100\n",
      "929/929 [==============================] - 1s 1ms/step - loss: 25.3396 - val_loss: 10.9030\n",
      "Epoch 4/100\n",
      "929/929 [==============================] - 1s 1ms/step - loss: 25.4313 - val_loss: 13.4832\n",
      "Epoch 5/100\n",
      "929/929 [==============================] - 1s 1ms/step - loss: 25.3122 - val_loss: 13.4533\n",
      "Epoch 6/100\n",
      "929/929 [==============================] - 1s 1ms/step - loss: 25.2980 - val_loss: 12.1264\n",
      "Epoch 7/100\n",
      "929/929 [==============================] - 1s 1ms/step - loss: 25.6353 - val_loss: 12.1590\n",
      "Epoch 8/100\n",
      "929/929 [==============================] - 1s 1ms/step - loss: 25.4113 - val_loss: 15.0108\n",
      "Epoch 9/100\n",
      "929/929 [==============================] - 1s 1ms/step - loss: 25.2908 - val_loss: 12.5759\n",
      "Epoch 10/100\n",
      "929/929 [==============================] - 1s 1ms/step - loss: 25.1049 - val_loss: 12.9974\n",
      "Epoch 11/100\n",
      "929/929 [==============================] - 1s 1ms/step - loss: 25.0797 - val_loss: 12.8870\n",
      "Epoch 12/100\n",
      "929/929 [==============================] - 1s 1ms/step - loss: 25.0437 - val_loss: 11.1744\n",
      "Epoch 13/100\n",
      "929/929 [==============================] - 1s 1ms/step - loss: 24.5701 - val_loss: 10.3312\n",
      "Epoch 14/100\n",
      "929/929 [==============================] - 1s 1ms/step - loss: 24.1636 - val_loss: 12.3927\n",
      "Epoch 15/100\n",
      "929/929 [==============================] - 1s 1ms/step - loss: 21.4197 - val_loss: 6.3668\n",
      "Epoch 16/100\n",
      "929/929 [==============================] - 1s 1ms/step - loss: 11.4912 - val_loss: 1.5171\n",
      "Epoch 17/100\n",
      "929/929 [==============================] - 1s 1ms/step - loss: 2.8632 - val_loss: 1.1244\n",
      "Epoch 18/100\n",
      "929/929 [==============================] - 1s 1ms/step - loss: 1.5885 - val_loss: 1.6558\n",
      "Epoch 19/100\n",
      "929/929 [==============================] - 1s 1ms/step - loss: 1.5829 - val_loss: 1.7854\n",
      "Epoch 20/100\n",
      "929/929 [==============================] - 1s 1ms/step - loss: 1.3187 - val_loss: 3.2444\n",
      "Epoch 21/100\n",
      "929/929 [==============================] - 1s 1ms/step - loss: 2.6180 - val_loss: 4.5681\n",
      "Epoch 22/100\n",
      "929/929 [==============================] - 1s 1ms/step - loss: 2.2344 - val_loss: 0.8011\n",
      "Epoch 23/100\n",
      "929/929 [==============================] - 1s 1ms/step - loss: 1.5422 - val_loss: 1.0881\n",
      "Epoch 24/100\n",
      "929/929 [==============================] - 1s 1ms/step - loss: 1.1635 - val_loss: 1.0014\n",
      "Epoch 25/100\n",
      "929/929 [==============================] - 1s 1ms/step - loss: 1.2502 - val_loss: 0.8151\n",
      "Epoch 26/100\n",
      "929/929 [==============================] - 1s 1ms/step - loss: 1.1653 - val_loss: 0.7948\n",
      "Epoch 27/100\n",
      "929/929 [==============================] - 1s 1ms/step - loss: 1.0157 - val_loss: 0.6890\n",
      "Epoch 28/100\n",
      "929/929 [==============================] - 1s 1ms/step - loss: 0.9389 - val_loss: 0.8757\n",
      "Epoch 29/100\n",
      "929/929 [==============================] - 1s 1ms/step - loss: 1.0179 - val_loss: 0.6714\n",
      "Epoch 30/100\n",
      "929/929 [==============================] - 1s 1ms/step - loss: 0.9703 - val_loss: 0.8884\n",
      "Epoch 31/100\n",
      "929/929 [==============================] - 1s 1ms/step - loss: 1.1254 - val_loss: 0.6967\n",
      "Epoch 32/100\n",
      "929/929 [==============================] - 1s 1ms/step - loss: 0.8417 - val_loss: 0.6172\n",
      "Epoch 33/100\n",
      "929/929 [==============================] - 1s 1ms/step - loss: 0.8555 - val_loss: 0.6467\n",
      "Epoch 34/100\n",
      "929/929 [==============================] - 1s 1ms/step - loss: 0.8206 - val_loss: 0.5182\n",
      "Epoch 35/100\n",
      "929/929 [==============================] - 1s 1ms/step - loss: 0.7416 - val_loss: 0.7150\n",
      "Epoch 36/100\n",
      "929/929 [==============================] - 1s 1ms/step - loss: 0.7646 - val_loss: 0.5106\n",
      "Epoch 37/100\n",
      "929/929 [==============================] - 1s 1ms/step - loss: 0.7568 - val_loss: 0.7206\n",
      "Epoch 38/100\n",
      "929/929 [==============================] - 1s 1ms/step - loss: 0.7235 - val_loss: 0.5703\n",
      "Epoch 39/100\n",
      "929/929 [==============================] - 1s 1ms/step - loss: 0.7568 - val_loss: 0.6613\n",
      "Epoch 40/100\n",
      "929/929 [==============================] - 1s 1ms/step - loss: 0.8265 - val_loss: 0.4657\n",
      "Epoch 41/100\n",
      "929/929 [==============================] - 1s 1ms/step - loss: 0.5908 - val_loss: 0.4616\n",
      "Epoch 42/100\n",
      "929/929 [==============================] - 1s 1ms/step - loss: 0.5767 - val_loss: 0.4507\n",
      "Epoch 43/100\n",
      "929/929 [==============================] - 1s 1ms/step - loss: 0.5122 - val_loss: 0.4231\n",
      "Epoch 44/100\n",
      "929/929 [==============================] - 1s 1ms/step - loss: 0.5555 - val_loss: 0.4635\n",
      "Epoch 45/100\n",
      "929/929 [==============================] - 1s 1ms/step - loss: 0.5661 - val_loss: 0.4233\n",
      "Epoch 46/100\n",
      "929/929 [==============================] - 1s 1ms/step - loss: 0.5456 - val_loss: 0.3837\n",
      "Epoch 47/100\n",
      "929/929 [==============================] - 1s 1ms/step - loss: 0.4712 - val_loss: 0.6242\n",
      "Epoch 48/100\n",
      "929/929 [==============================] - 1s 1ms/step - loss: 0.5832 - val_loss: 0.4044\n",
      "Epoch 49/100\n",
      "929/929 [==============================] - 1s 1ms/step - loss: 0.4731 - val_loss: 0.3460\n",
      "Epoch 50/100\n",
      "929/929 [==============================] - 1s 1ms/step - loss: 0.4745 - val_loss: 1.1115\n",
      "Epoch 51/100\n",
      "929/929 [==============================] - 1s 1ms/step - loss: 0.5508 - val_loss: 0.6610\n",
      "Epoch 52/100\n",
      "929/929 [==============================] - 1s 1ms/step - loss: 0.4791 - val_loss: 0.3358\n",
      "Epoch 53/100\n",
      "929/929 [==============================] - 1s 1ms/step - loss: 0.4550 - val_loss: 0.8918\n",
      "Epoch 54/100\n",
      "929/929 [==============================] - 1s 1ms/step - loss: 0.7529 - val_loss: 0.3380\n",
      "Epoch 55/100\n",
      "929/929 [==============================] - 1s 1ms/step - loss: 0.5240 - val_loss: 0.3458\n",
      "Epoch 56/100\n",
      "929/929 [==============================] - 1s 1ms/step - loss: 0.3963 - val_loss: 0.3546\n",
      "Epoch 57/100\n",
      "929/929 [==============================] - 1s 1ms/step - loss: 0.3890 - val_loss: 0.3190\n",
      "Epoch 58/100\n",
      "929/929 [==============================] - 1s 1ms/step - loss: 0.4227 - val_loss: 0.4982\n",
      "Epoch 59/100\n",
      "929/929 [==============================] - 1s 1ms/step - loss: 0.4156 - val_loss: 0.5535\n",
      "Epoch 60/100\n",
      "929/929 [==============================] - 1s 1ms/step - loss: 0.4760 - val_loss: 0.2990\n",
      "Epoch 61/100\n",
      "929/929 [==============================] - 1s 1ms/step - loss: 0.4405 - val_loss: 0.3525\n",
      "Epoch 62/100\n",
      "929/929 [==============================] - 1s 1ms/step - loss: 0.3654 - val_loss: 0.3293\n",
      "Epoch 63/100\n",
      "929/929 [==============================] - 1s 1ms/step - loss: 0.4280 - val_loss: 0.3704\n",
      "Epoch 64/100\n",
      "929/929 [==============================] - 1s 1ms/step - loss: 0.5927 - val_loss: 0.6488\n",
      "Epoch 65/100\n",
      "929/929 [==============================] - 1s 1ms/step - loss: 0.4790 - val_loss: 0.3075\n",
      "Epoch 66/100\n",
      "929/929 [==============================] - 1s 1ms/step - loss: 0.4874 - val_loss: 0.3174\n",
      "Epoch 67/100\n",
      "929/929 [==============================] - 1s 1ms/step - loss: 0.4164 - val_loss: 0.3688\n",
      "Epoch 68/100\n",
      "929/929 [==============================] - 1s 1ms/step - loss: 0.4412 - val_loss: 0.2820\n",
      "Epoch 69/100\n",
      "929/929 [==============================] - 1s 1ms/step - loss: 0.3474 - val_loss: 0.4144\n",
      "Epoch 70/100\n",
      "929/929 [==============================] - 1s 1ms/step - loss: 0.4107 - val_loss: 0.2661\n",
      "Epoch 71/100\n",
      "929/929 [==============================] - 1s 1ms/step - loss: 0.3697 - val_loss: 0.3076\n",
      "Epoch 72/100\n",
      "929/929 [==============================] - 1s 1ms/step - loss: 0.3324 - val_loss: 0.5006\n",
      "Epoch 73/100\n",
      "929/929 [==============================] - 1s 1ms/step - loss: 0.4333 - val_loss: 0.3422\n",
      "Epoch 74/100\n",
      "929/929 [==============================] - 1s 1ms/step - loss: 0.4278 - val_loss: 0.2725\n",
      "Epoch 75/100\n",
      "929/929 [==============================] - 1s 1ms/step - loss: 0.3308 - val_loss: 0.4383\n",
      "Epoch 76/100\n",
      "929/929 [==============================] - 1s 1ms/step - loss: 0.4650 - val_loss: 0.2713\n",
      "Epoch 77/100\n",
      "929/929 [==============================] - 1s 1ms/step - loss: 0.3207 - val_loss: 0.2519\n",
      "Epoch 78/100\n",
      "929/929 [==============================] - 1s 1ms/step - loss: 0.3218 - val_loss: 0.2469\n",
      "Epoch 79/100\n",
      "929/929 [==============================] - 1s 1ms/step - loss: 0.3338 - val_loss: 0.4360\n",
      "Epoch 80/100\n",
      "929/929 [==============================] - 1s 1ms/step - loss: 0.4726 - val_loss: 0.2656\n",
      "Epoch 81/100\n",
      "929/929 [==============================] - 1s 1ms/step - loss: 0.4245 - val_loss: 0.2425\n",
      "Epoch 82/100\n",
      "929/929 [==============================] - 1s 1ms/step - loss: 0.3649 - val_loss: 0.2414\n",
      "Epoch 83/100\n",
      "929/929 [==============================] - 1s 1ms/step - loss: 0.3478 - val_loss: 0.2545\n",
      "Epoch 84/100\n",
      "929/929 [==============================] - 1s 1ms/step - loss: 0.3068 - val_loss: 0.2344\n",
      "Epoch 85/100\n",
      "929/929 [==============================] - 1s 1ms/step - loss: 0.3125 - val_loss: 0.2606\n",
      "Epoch 86/100\n",
      "929/929 [==============================] - 1s 1ms/step - loss: 0.3099 - val_loss: 0.3274\n",
      "Epoch 87/100\n",
      "929/929 [==============================] - 1s 1ms/step - loss: 0.4362 - val_loss: 0.2354\n",
      "Epoch 88/100\n",
      "929/929 [==============================] - 1s 1ms/step - loss: 0.3315 - val_loss: 0.5279\n",
      "Epoch 89/100\n",
      "929/929 [==============================] - 1s 1ms/step - loss: 0.3546 - val_loss: 0.2341\n",
      "Epoch 90/100\n",
      "929/929 [==============================] - 1s 1ms/step - loss: 0.2941 - val_loss: 0.4478\n",
      "Epoch 91/100\n",
      "929/929 [==============================] - 1s 1ms/step - loss: 0.4405 - val_loss: 0.2491\n",
      "Epoch 92/100\n",
      "929/929 [==============================] - 1s 1ms/step - loss: 0.3085 - val_loss: 0.2278\n",
      "Epoch 93/100\n",
      "929/929 [==============================] - 1s 1ms/step - loss: 0.2868 - val_loss: 0.2501\n",
      "Epoch 94/100\n",
      "929/929 [==============================] - 1s 1ms/step - loss: 0.3005 - val_loss: 0.3435\n",
      "Epoch 95/100\n",
      "929/929 [==============================] - 1s 1ms/step - loss: 0.3311 - val_loss: 0.2349\n",
      "Epoch 96/100\n",
      "929/929 [==============================] - 1s 1ms/step - loss: 0.3230 - val_loss: 0.2244\n",
      "Epoch 97/100\n",
      "929/929 [==============================] - 1s 1ms/step - loss: 0.3341 - val_loss: 0.3446\n",
      "Epoch 98/100\n",
      "929/929 [==============================] - 1s 1ms/step - loss: 0.3417 - val_loss: 0.2130\n",
      "Epoch 99/100\n",
      "929/929 [==============================] - 1s 1ms/step - loss: 0.3078 - val_loss: 0.2215\n",
      "Epoch 100/100\n",
      "929/929 [==============================] - 1s 1ms/step - loss: 0.3156 - val_loss: 0.2070\n"
     ]
    }
   ],
   "source": [
    "history = model.fit(X_train_sc,y_train,epochs=100,validation_data=(X_test_sc,y_test))"
   ]
  },
  {
   "cell_type": "markdown",
   "metadata": {
    "colab_type": "text",
    "id": "WMfW_DWhTlks"
   },
   "source": [
    "I have used 100 Epochs"
   ]
  },
  {
   "cell_type": "markdown",
   "metadata": {
    "colab_type": "text",
    "id": "FG2khMIevtOM"
   },
   "source": [
    "## Plotting the train loss and validation loss on y-axis and epochs on x-axis."
   ]
  },
  {
   "cell_type": "code",
   "execution_count": null,
   "metadata": {
    "colab": {
     "base_uri": "https://localhost:8080/",
     "height": 296
    },
    "colab_type": "code",
    "id": "qxtDfqIWT0D4",
    "outputId": "4e6bcbb5-bde3-4c73-bf46-a96279a5240e"
   },
   "outputs": [
    {
     "data": {
      "text/plain": [
       "Text(0, 0.5, 'tr_loss and val_loss')"
      ]
     },
     "execution_count": 34,
     "metadata": {
      "tags": []
     },
     "output_type": "execute_result"
    },
    {
     "data": {
      "image/png": "[encoded data removed]",
      "text/plain": [
       "<Figure size 432x288 with 1 Axes>"
      ]
     },
     "metadata": {
      "needs_background": "light",
      "tags": []
     },
     "output_type": "display_data"
    }
   ],
   "source": [
    "tr_loss = history.history['loss']\n",
    "val_loss = history.history['val_loss']\n",
    "ep = list(range(1,101))\n",
    "plt.plot(ep,tr_loss,color='r')\n",
    "plt.plot(ep,val_loss,color='b')\n",
    "plt.xlabel('ep')\n",
    "plt.ylabel('tr_loss and val_loss')"
   ]
  },
  {
   "cell_type": "markdown",
   "metadata": {
    "colab_type": "text",
    "id": "wlAZUtFxUTIH"
   },
   "source": [
    "# Evaluating the model with test data\n"
   ]
  },
  {
   "cell_type": "code",
   "execution_count": null,
   "metadata": {
    "colab": {
     "base_uri": "https://localhost:8080/",
     "height": 1000
    },
    "colab_type": "code",
    "id": "5u-vsLcJT0D6",
    "outputId": "b092fffc-bc81-498c-9af7-1543c0c896d4",
    "scrolled": false
   },
   "outputs": [
    {
     "data": {
      "text/plain": [
       "array([[18.545895 ],\n",
       "       [18.540947 ],\n",
       "       [18.587301 ],\n",
       "       [18.591793 ],\n",
       "       [18.63916  ],\n",
       "       [18.796804 ],\n",
       "       [18.895489 ],\n",
       "       [18.875383 ],\n",
       "       [18.962732 ],\n",
       "       [19.130415 ],\n",
       "       [19.150927 ],\n",
       "       [18.872612 ],\n",
       "       [18.536837 ],\n",
       "       [18.393133 ],\n",
       "       [18.368198 ],\n",
       "       [18.311745 ],\n",
       "       [18.247505 ],\n",
       "       [18.320263 ],\n",
       "       [18.312593 ],\n",
       "       [18.240644 ],\n",
       "       [17.960821 ],\n",
       "       [17.588268 ],\n",
       "       [17.335678 ],\n",
       "       [17.207762 ],\n",
       "       [17.14338  ],\n",
       "       [17.098694 ],\n",
       "       [17.068846 ],\n",
       "       [17.120485 ],\n",
       "       [17.271593 ],\n",
       "       [17.501064 ],\n",
       "       [17.795174 ],\n",
       "       [17.944073 ],\n",
       "       [17.85078  ],\n",
       "       [17.708017 ],\n",
       "       [17.709225 ],\n",
       "       [17.796213 ],\n",
       "       [17.931782 ],\n",
       "       [17.998407 ],\n",
       "       [17.872644 ],\n",
       "       [17.813475 ],\n",
       "       [17.900053 ],\n",
       "       [17.969393 ],\n",
       "       [18.008505 ],\n",
       "       [17.982283 ],\n",
       "       [17.976221 ],\n",
       "       [17.914537 ],\n",
       "       [18.357895 ],\n",
       "       [18.887129 ],\n",
       "       [19.130856 ],\n",
       "       [19.176617 ],\n",
       "       [19.04564  ],\n",
       "       [18.836988 ],\n",
       "       [18.546696 ],\n",
       "       [18.453363 ],\n",
       "       [18.565048 ],\n",
       "       [18.708185 ],\n",
       "       [18.765415 ],\n",
       "       [18.742731 ],\n",
       "       [18.753576 ],\n",
       "       [18.806005 ],\n",
       "       [18.798409 ],\n",
       "       [18.84411  ],\n",
       "       [18.948074 ],\n",
       "       [18.951803 ],\n",
       "       [18.894419 ],\n",
       "       [18.828287 ],\n",
       "       [18.659388 ],\n",
       "       [18.545174 ],\n",
       "       [18.610085 ],\n",
       "       [18.78746  ],\n",
       "       [18.994873 ],\n",
       "       [19.019588 ],\n",
       "       [18.931341 ],\n",
       "       [18.951    ],\n",
       "       [19.00067  ],\n",
       "       [18.941822 ],\n",
       "       [18.836487 ],\n",
       "       [18.858864 ],\n",
       "       [18.970215 ],\n",
       "       [18.9437   ],\n",
       "       [18.865728 ],\n",
       "       [18.717562 ],\n",
       "       [18.682053 ],\n",
       "       [18.719011 ],\n",
       "       [18.748085 ],\n",
       "       [18.70869  ],\n",
       "       [18.710463 ],\n",
       "       [18.579334 ],\n",
       "       [18.365885 ],\n",
       "       [18.197512 ],\n",
       "       [18.130772 ],\n",
       "       [18.194876 ],\n",
       "       [18.249731 ],\n",
       "       [18.31789  ],\n",
       "       [18.404427 ],\n",
       "       [18.527575 ],\n",
       "       [18.670904 ],\n",
       "       [18.78     ],\n",
       "       [18.963985 ],\n",
       "       [19.229532 ],\n",
       "       [19.507076 ],\n",
       "       [19.8271   ],\n",
       "       [20.083868 ],\n",
       "       [20.0846   ],\n",
       "       [20.026075 ],\n",
       "       [19.941433 ],\n",
       "       [19.721035 ],\n",
       "       [19.613283 ],\n",
       "       [19.684673 ],\n",
       "       [19.711906 ],\n",
       "       [19.578568 ],\n",
       "       [19.441668 ],\n",
       "       [19.444412 ],\n",
       "       [19.493282 ],\n",
       "       [19.41794  ],\n",
       "       [19.26704  ],\n",
       "       [19.130575 ],\n",
       "       [19.05549  ],\n",
       "       [17.921154 ],\n",
       "       [17.027458 ],\n",
       "       [16.548742 ],\n",
       "       [16.43773  ],\n",
       "       [16.37447  ],\n",
       "       [16.3689   ],\n",
       "       [16.286325 ],\n",
       "       [16.345905 ],\n",
       "       [16.433996 ],\n",
       "       [16.41275  ],\n",
       "       [16.377424 ],\n",
       "       [16.369915 ],\n",
       "       [16.369081 ],\n",
       "       [16.462122 ],\n",
       "       [16.605349 ],\n",
       "       [16.79726  ],\n",
       "       [16.927307 ],\n",
       "       [16.931637 ],\n",
       "       [16.886902 ],\n",
       "       [16.78202  ],\n",
       "       [16.673626 ],\n",
       "       [16.471748 ],\n",
       "       [16.303102 ],\n",
       "       [16.245636 ],\n",
       "       [16.24391  ],\n",
       "       [16.251099 ],\n",
       "       [16.238644 ],\n",
       "       [16.254154 ],\n",
       "       [16.387863 ],\n",
       "       [16.539722 ],\n",
       "       [16.627626 ],\n",
       "       [16.669836 ],\n",
       "       [16.731644 ],\n",
       "       [16.771957 ],\n",
       "       [16.756798 ],\n",
       "       [16.7805   ],\n",
       "       [16.749233 ],\n",
       "       [16.776407 ],\n",
       "       [16.829672 ],\n",
       "       [16.58773  ],\n",
       "       [16.151842 ],\n",
       "       [15.912167 ],\n",
       "       [15.905122 ],\n",
       "       [15.818076 ],\n",
       "       [15.669537 ],\n",
       "       [15.525688 ],\n",
       "       [15.448866 ],\n",
       "       [15.295498 ],\n",
       "       [15.1839485],\n",
       "       [15.174395 ],\n",
       "       [15.225257 ],\n",
       "       [15.046019 ],\n",
       "       [14.830477 ],\n",
       "       [14.7379465],\n",
       "       [14.696572 ],\n",
       "       [14.691584 ],\n",
       "       [15.237781 ],\n",
       "       [15.560548 ],\n",
       "       [15.814104 ],\n",
       "       [16.153755 ],\n",
       "       [16.442165 ],\n",
       "       [16.61929  ],\n",
       "       [16.744238 ],\n",
       "       [16.866148 ],\n",
       "       [16.908709 ],\n",
       "       [16.903023 ],\n",
       "       [16.933659 ],\n",
       "       [16.893394 ],\n",
       "       [16.91519  ],\n",
       "       [16.995277 ],\n",
       "       [17.066809 ],\n",
       "       [16.971659 ],\n",
       "       [17.019987 ],\n",
       "       [17.173826 ],\n",
       "       [17.363693 ],\n",
       "       [17.491003 ],\n",
       "       [17.501469 ],\n",
       "       [17.54666  ],\n",
       "       [17.857067 ],\n",
       "       [18.265285 ],\n",
       "       [18.776752 ],\n",
       "       [19.214169 ],\n",
       "       [19.47929  ],\n",
       "       [19.475868 ],\n",
       "       [19.347445 ],\n",
       "       [19.437635 ],\n",
       "       [19.616043 ],\n",
       "       [19.783098 ],\n",
       "       [19.79504  ],\n",
       "       [19.787857 ],\n",
       "       [19.818571 ],\n",
       "       [19.836382 ],\n",
       "       [19.743399 ],\n",
       "       [19.679583 ],\n",
       "       [19.749619 ],\n",
       "       [19.9454   ],\n",
       "       [20.078114 ],\n",
       "       [20.187248 ],\n",
       "       [20.284101 ],\n",
       "       [20.38628  ],\n",
       "       [20.35622  ],\n",
       "       [20.368406 ],\n",
       "       [20.193777 ],\n",
       "       [20.053219 ],\n",
       "       [20.224556 ],\n",
       "       [20.37893  ],\n",
       "       [20.35832  ],\n",
       "       [20.217377 ],\n",
       "       [20.052132 ],\n",
       "       [19.840906 ],\n",
       "       [19.585892 ],\n",
       "       [19.45728  ],\n",
       "       [19.092157 ],\n",
       "       [18.559252 ],\n",
       "       [17.942606 ]], dtype=float32)"
      ]
     },
     "execution_count": 35,
     "metadata": {
      "tags": []
     },
     "output_type": "execute_result"
    }
   ],
   "source": [
    "model.predict(X_test_sc)"
   ]
  },
  {
   "cell_type": "markdown",
   "metadata": {
    "colab_type": "text",
    "id": "Nut_I5q_vGKg"
   },
   "source": [
    "# RESULT VISUALIZATION"
   ]
  },
  {
   "cell_type": "markdown",
   "metadata": {
    "colab_type": "text",
    "id": "d5GQp9UevNTw"
   },
   "source": [
    "**Plotting actual and predicted values**"
   ]
  },
  {
   "cell_type": "code",
   "execution_count": null,
   "metadata": {
    "colab": {
     "base_uri": "https://localhost:8080/",
     "height": 295
    },
    "colab_type": "code",
    "id": "HmTsAAmsT0D8",
    "outputId": "79b11f8e-446f-4c09-dd1e-c3aa9d5b0e16"
   },
   "outputs": [
    {
     "data": {
      "image/png": "[encoded data removed]",
      "text/plain": [
       "<Figure size 432x288 with 1 Axes>"
      ]
     },
     "metadata": {
      "needs_background": "light",
      "tags": []
     },
     "output_type": "display_data"
    }
   ],
   "source": [
    "plt.plot(range(len(X_test_sc)),model.predict(X_test_sc).flat,color='b')\n",
    "plt.plot(range(len(X_test_sc)),y_test,color='r')\n",
    "plt.title('comparing the actual and predicted values')\n",
    "plt.xlabel('range')\n",
    "plt.ylabel('predicted and actual values')\n",
    "plt.show()"
   ]
  },
  {
   "cell_type": "markdown",
   "metadata": {
    "colab_type": "text",
    "id": "CqOvKB3dVUHu"
   },
   "source": [
    "we can say that predicted and actual values are same from the above graph"
   ]
  },
  {
   "cell_type": "markdown",
   "metadata": {
    "colab_type": "text",
    "id": "Nq_MRndCvab8"
   },
   "source": [
    "# PREDICTION"
   ]
  },
  {
   "cell_type": "code",
   "execution_count": null,
   "metadata": {
    "colab": {
     "base_uri": "https://localhost:8080/",
     "height": 185
    },
    "colab_type": "code",
    "id": "G6SxdvN_T0D9",
    "outputId": "507030e7-7cf3-487b-d7e8-9d67f4e41a25"
   },
   "outputs": [
    {
     "data": {
      "text/plain": [
       "array([[[-0.42910696],\n",
       "        [-0.49120954],\n",
       "        [-0.49164564],\n",
       "        [-0.56549908],\n",
       "        [-0.55295545],\n",
       "        [-0.50094281],\n",
       "        [-0.47283636],\n",
       "        [-0.5043165 ],\n",
       "        [-0.57853865],\n",
       "        [-0.52339808]]])"
      ]
     },
     "execution_count": 37,
     "metadata": {
      "tags": []
     },
     "output_type": "execute_result"
    }
   ],
   "source": [
    "X_test_sc[0].reshape(1,10,1)"
   ]
  },
  {
   "cell_type": "code",
   "execution_count": null,
   "metadata": {
    "colab": {
     "base_uri": "https://localhost:8080/",
     "height": 34
    },
    "colab_type": "code",
    "id": "qL9nIF5_T0D_",
    "outputId": "3b835d97-cffc-4055-ef10-e92e5dafd156"
   },
   "outputs": [
    {
     "data": {
      "text/plain": [
       "array([[18.545895]], dtype=float32)"
      ]
     },
     "execution_count": 38,
     "metadata": {
      "tags": []
     },
     "output_type": "execute_result"
    }
   ],
   "source": [
    "model.predict(X_test_sc[0].reshape(1,10,1))"
   ]
  },
  {
   "cell_type": "code",
   "execution_count": null,
   "metadata": {
    "colab": {
     "base_uri": "https://localhost:8080/",
     "height": 34
    },
    "colab_type": "code",
    "id": "eisxpCmvT0EE",
    "outputId": "a07b038d-8a66-4989-a99c-950ceed9cdbb"
   },
   "outputs": [
    {
     "data": {
      "text/plain": [
       "18.5029"
      ]
     },
     "execution_count": 39,
     "metadata": {
      "tags": []
     },
     "output_type": "execute_result"
    }
   ],
   "source": [
    "y_test[929]"
   ]
  },
  {
   "cell_type": "markdown",
   "metadata": {
    "colab_type": "text",
    "id": "AahWAnUNVlij"
   },
   "source": [
    "**CONCLUSION**:\n",
    "\n",
    "\n",
    "\n",
    "\n",
    "*  I have not used Dropout layer,as there is no overfitting in the data.\n",
    "*   I have not used another model,because I got model predicted value as 18.54 and actual value as 18.50.Both the values are almost similar.\n",
    "\n",
    "\n",
    "\n",
    "\n",
    "\n"
   ]
  }
 ],
 "metadata": {
  "accelerator": "GPU",
  "colab": {
   "collapsed_sections": [],
   "name": "STOCKPRICEPREDICTION.ipynb",
   "provenance": []
  },
  "kernelspec": {
   "display_name": "Python 3",
   "language": "python",
   "name": "python3"
  },
  "language_info": {
   "codemirror_mode": {
    "name": "ipython",
    "version": 3
   },
   "file_extension": ".py",
   "mimetype": "text/x-python",
   "name": "python",
   "nbconvert_exporter": "python",
   "pygments_lexer": "ipython3",
   "version": "3.7.6"
  }
 },
 "nbformat": 4,
 "nbformat_minor": 1
}
